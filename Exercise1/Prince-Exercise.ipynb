{
 "cells": [
  {
   "cell_type": "markdown",
   "metadata": {},
   "source": [
    "### Gil Yair Yamin - 207027053\n",
    "\n",
    "Create a function clean_text().\\\n",
    "The function should take any form of text data, make all letters in it lower case, and delete all punctuations."
   ]
  },
  {
   "cell_type": "code",
   "execution_count": 4,
   "metadata": {},
   "outputs": [],
   "source": [
    "import string\n",
    "import re\n",
    "\n",
    "def clean_text(text):\n",
    "    lower = re.sub(r\"[A-Z]+\", lambda x: x.group(0).lower(), text)\n",
    "    clean = re.sub(f\"[{string.punctuation}]+\", \" \", lower)\n",
    "    strip = re.sub(r\"[\\s]{1,}\", \" \", clean)\n",
    "    return strip\n",
    "\n",
    "text = \"I aaa I. a I Ia aI I\""
   ]
  },
  {
   "cell_type": "markdown",
   "metadata": {},
   "source": [
    "find all instances of I"
   ]
  },
  {
   "cell_type": "code",
   "execution_count": 11,
   "metadata": {},
   "outputs": [
    {
     "data": {
      "text/plain": [
       "['I', 'I', 'I', 'I']"
      ]
     },
     "execution_count": 11,
     "metadata": {},
     "output_type": "execute_result"
    }
   ],
   "source": [
    "text = \"I aaa ,I. a I Ia aI\\n I\\n\"\n",
    "x = re.findall(r'\\bI\\b', text)\n",
    "x"
   ]
  },
  {
   "cell_type": "markdown",
   "metadata": {},
   "source": []
  }
 ],
 "metadata": {
  "kernelspec": {
   "display_name": "Python 3",
   "language": "python",
   "name": "python3"
  },
  "language_info": {
   "codemirror_mode": {
    "name": "ipython",
    "version": 3
   },
   "file_extension": ".py",
   "mimetype": "text/x-python",
   "name": "python",
   "nbconvert_exporter": "python",
   "pygments_lexer": "ipython3",
   "version": "3.12.3"
  }
 },
 "nbformat": 4,
 "nbformat_minor": 2
}
