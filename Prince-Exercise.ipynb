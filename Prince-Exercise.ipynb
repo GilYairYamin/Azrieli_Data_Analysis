{
 "cells": [
  {
   "cell_type": "markdown",
   "metadata": {},
   "source": [
    "### Gil Yair Yamin - 207027053\n",
    "\n",
    "Create a function clean_text().\\\n",
    "The function should take any form of text data, make all letters in it lower case, and delete all punctuations."
   ]
  },
  {
   "cell_type": "code",
   "execution_count": 106,
   "metadata": {},
   "outputs": [],
   "source": [
    "import string\n",
    "import re\n",
    "\n",
    "def clean_text(text):\n",
    "    lower = re.sub(r\"[A-Z]+\", lambda x: x.group(0).lower(), text)\n",
    "    clean = re.sub(f\"[{string.punctuation}]+\", \" \", lower)\n",
    "    strip = re.sub(r\"[ ]{2,}\", \" \", clean)\n",
    "    return strip"
   ]
  }
 ],
 "metadata": {
  "kernelspec": {
   "display_name": "Python 3",
   "language": "python",
   "name": "python3"
  },
  "language_info": {
   "codemirror_mode": {
    "name": "ipython",
    "version": 3
   },
   "file_extension": ".py",
   "mimetype": "text/x-python",
   "name": "python",
   "nbconvert_exporter": "python",
   "pygments_lexer": "ipython3",
   "version": "3.12.3"
  }
 },
 "nbformat": 4,
 "nbformat_minor": 2
}
