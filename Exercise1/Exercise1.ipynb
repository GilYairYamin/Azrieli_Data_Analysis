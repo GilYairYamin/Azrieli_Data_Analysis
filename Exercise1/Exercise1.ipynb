{
 "cells": [
  {
   "cell_type": "markdown",
   "metadata": {},
   "source": [
    "### Exercise 1\n",
    "\n",
    "Let's import text from file:"
   ]
  },
  {
   "cell_type": "code",
   "execution_count": 1,
   "metadata": {},
   "outputs": [],
   "source": [
    "import re\n",
    "\n",
    "text = \"\"\n",
    "with open('The Little Prince.txt', 'r', encoding='utf-8') as fid:\n",
    "    for line in fid:\n",
    "        text += line"
   ]
  },
  {
   "cell_type": "markdown",
   "metadata": {},
   "source": [
    "Find all appearances of the word I."
   ]
  },
  {
   "cell_type": "code",
   "execution_count": 2,
   "metadata": {},
   "outputs": [
    {
     "name": "stdout",
     "output_type": "stream",
     "text": [
      "there are 79 appearances of the word I.\n"
     ]
    }
   ],
   "source": [
    "appearances_I = re.findall(r\"\\bI\\b\", text)\n",
    "print (\"there are\", len(appearances_I), \"appearances of the word I.\")"
   ]
  },
  {
   "cell_type": "markdown",
   "metadata": {},
   "source": [
    "Find all words starting with a capital letter:"
   ]
  },
  {
   "cell_type": "code",
   "execution_count": 3,
   "metadata": {},
   "outputs": [
    {
     "name": "stdout",
     "output_type": "stream",
     "text": [
      "there are 264 appearances of the words that begin with capital letters.\n"
     ]
    }
   ],
   "source": [
    "capital_words = re.findall(r\"\\b[A-Z]\\w*\\b\", text)\n",
    "print(\"there are\", len(capital_words), \"appearances of the words that begin with capital letters.\")"
   ]
  },
  {
   "cell_type": "markdown",
   "metadata": {},
   "source": [
    "Words seperated by dashes:"
   ]
  },
  {
   "cell_type": "code",
   "execution_count": 4,
   "metadata": {},
   "outputs": [
    {
     "name": "stdout",
     "output_type": "stream",
     "text": [
      "there are 20 words seperated by dashes.\n"
     ]
    }
   ],
   "source": [
    "dashed_words = re.findall(r\"\\b\\w+-\\w+\\b\", text)\n",
    "dashed_words_dict = {}\n",
    "for word in dashed_words:\n",
    "    if word not in dashed_words_dict.keys():\n",
    "        dashed_words_dict[word] = 0\n",
    "    dashed_words_dict[word] += 1\n",
    "    \n",
    "print(\"there are\", len(dashed_words), \"words seperated by dashes.\")"
   ]
  },
  {
   "cell_type": "markdown",
   "metadata": {},
   "source": [
    "Numbers"
   ]
  },
  {
   "cell_type": "code",
   "execution_count": 5,
   "metadata": {},
   "outputs": [
    {
     "name": "stdout",
     "output_type": "stream",
     "text": [
      "There are 44 numbers.\n"
     ]
    }
   ],
   "source": [
    "numbers = re.findall(r'\\b\\d+\\b', text)\n",
    "print('There are', len(numbers), 'numbers.')"
   ]
  },
  {
   "cell_type": "markdown",
   "metadata": {},
   "source": [
    "Adjecent duplicates."
   ]
  },
  {
   "cell_type": "code",
   "execution_count": 6,
   "metadata": {},
   "outputs": [
    {
     "name": "stdout",
     "output_type": "stream",
     "text": [
      "there are 9 duplications\n"
     ]
    }
   ],
   "source": [
    "dups = re.findall(r\"\\b(\\w+)[\\s]+(\\1)\\b\", text)\n",
    "print('there are', len(dups), 'duplications')\n",
    "\n",
    "with open(\"duplications.txt\", \"w\", encoding=\"utf-8\") as fid:\n",
    "    for dup in dups:\n",
    "        fid.write(dup[0] + \"\\n\")"
   ]
  },
  {
   "cell_type": "markdown",
   "metadata": {},
   "source": [
    "Quotations"
   ]
  },
  {
   "cell_type": "code",
   "execution_count": 7,
   "metadata": {},
   "outputs": [
    {
     "name": "stdout",
     "output_type": "stream",
     "text": [
      "there are 29 sentences surrounded by quotes\n"
     ]
    }
   ],
   "source": [
    "quotations = re.findall(r\"“.+”|‘.*’\", text)\n",
    "print('there are', len(quotations), 'sentences surrounded by quotes')\n",
    "\n",
    "with open(\"quotations.txt\", \"w\", encoding=\"utf-8\") as fid:\n",
    "    for q in quotations:\n",
    "        fid.write(q + \"\\n\")"
   ]
  },
  {
   "cell_type": "code",
   "execution_count": 16,
   "metadata": {},
   "outputs": [],
   "source": [
    "import string\n",
    "\n",
    "def to_lower_case(x):\n",
    "    return x.group(0).lower()\n",
    "\n",
    "def remove_dups(x):\n",
    "    word = re.match(r'\\w+', x.group(0))\n",
    "    return word.group(0)\n",
    "\n",
    "def clean_text(text):\n",
    "    lower_case = re.sub(r'[A-Z]+', to_lower_case, text)\n",
    "    removed_punc = re.sub(f'[{string.punctuation}]', '', lower_case)\n",
    "    removed_dups = re.sub(r\"\\b(\\w+)[\\s]+(\\1)\\b\", remove_dups, removed_punc)\n",
    "    handle_lines = re.sub(r\"[\\s]+\", \" \", removed_dups)\n",
    "    return handle_lines\n",
    "\n",
    "cleaned_text = clean_text(text)\n",
    "with open('cleaned little prince.txt', 'w', encoding='utf-8') as fid:\n",
    "    fid.write(cleaned_text)"
   ]
  }
 ],
 "metadata": {
  "kernelspec": {
   "display_name": "Python 3",
   "language": "python",
   "name": "python3"
  },
  "language_info": {
   "codemirror_mode": {
    "name": "ipython",
    "version": 3
   },
   "file_extension": ".py",
   "mimetype": "text/x-python",
   "name": "python",
   "nbconvert_exporter": "python",
   "pygments_lexer": "ipython3",
   "version": "3.12.3"
  }
 },
 "nbformat": 4,
 "nbformat_minor": 2
}
