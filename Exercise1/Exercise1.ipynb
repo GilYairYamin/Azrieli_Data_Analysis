{
 "cells": [
  {
   "cell_type": "markdown",
   "metadata": {},
   "source": [
    "### Exercise 1\n",
    "\n",
    "Let's import text from file:"
   ]
  },
  {
   "cell_type": "code",
   "execution_count": 1,
   "metadata": {},
   "outputs": [],
   "source": [
    "import re\n",
    "\n",
    "little_prince = \"\"\n",
    "with open('The Little Prince.txt', 'r', encoding='utf-8') as fid:\n",
    "    for line in fid:\n",
    "        little_prince += line"
   ]
  },
  {
   "cell_type": "markdown",
   "metadata": {},
   "source": [
    "Find all appearances of the word I."
   ]
  },
  {
   "cell_type": "code",
   "execution_count": 2,
   "metadata": {},
   "outputs": [
    {
     "name": "stdout",
     "output_type": "stream",
     "text": [
      "there are 79 appearances of the word I.\n"
     ]
    }
   ],
   "source": [
    "appearances_I = re.findall(r\"\\bI\\b\", little_prince)\n",
    "print (\"there are\", len(appearances_I), \"appearances of the word I.\")"
   ]
  },
  {
   "cell_type": "markdown",
   "metadata": {},
   "source": [
    "Find all words starting with a capital letter:"
   ]
  },
  {
   "cell_type": "code",
   "execution_count": 3,
   "metadata": {},
   "outputs": [
    {
     "name": "stdout",
     "output_type": "stream",
     "text": [
      "there are 264 appearances of the words that begin with capital letters.\n"
     ]
    }
   ],
   "source": [
    "capital_words = re.findall(r\"\\b[A-Z]\\w*\\b\", little_prince)\n",
    "print(\"there are\", len(capital_words), \"appearances of the words that begin with capital letters.\")"
   ]
  },
  {
   "cell_type": "markdown",
   "metadata": {},
   "source": [
    "Words seperated by dashes:"
   ]
  },
  {
   "cell_type": "code",
   "execution_count": 4,
   "metadata": {},
   "outputs": [
    {
     "name": "stdout",
     "output_type": "stream",
     "text": [
      "there are 16 words seperated by dashes.\n"
     ]
    },
    {
     "data": {
      "text/plain": [
       "{'Saint-Exupery': 2,\n",
       " 'grown-ups': 5,\n",
       " 'Grown-ups': 1,\n",
       " 'air-planes': 1,\n",
       " 'clear-sighted': 1,\n",
       " 'grown-up': 1,\n",
       " 'air-plane': 4,\n",
       " 'half-confidence': 1}"
      ]
     },
     "execution_count": 4,
     "metadata": {},
     "output_type": "execute_result"
    }
   ],
   "source": [
    "dashed_words = re.findall(r\"\\b[a-zA-Z]+-[a-zA-Z]+\\b\", little_prince)\n",
    "dashed_words_dict = {}\n",
    "for word in dashed_words:\n",
    "    if word not in dashed_words_dict.keys():\n",
    "        dashed_words_dict[word] = 0\n",
    "    dashed_words_dict[word] += 1\n",
    "\n",
    "print(\"there are\", len(dashed_words), \"words seperated by dashes.\")\n",
    "dashed_words_dict"
   ]
  },
  {
   "cell_type": "markdown",
   "metadata": {},
   "source": [
    "Numbers"
   ]
  },
  {
   "cell_type": "code",
   "execution_count": 5,
   "metadata": {},
   "outputs": [
    {
     "name": "stdout",
     "output_type": "stream",
     "text": [
      "There are 44 numbers.\n"
     ]
    }
   ],
   "source": [
    "numbers = re.findall(r'\\b\\d+\\b', little_prince)\n",
    "print('There are', len(numbers), 'numbers.')"
   ]
  },
  {
   "cell_type": "markdown",
   "metadata": {},
   "source": [
    "Find adjecent duplicates."
   ]
  },
  {
   "cell_type": "code",
   "execution_count": 6,
   "metadata": {},
   "outputs": [
    {
     "name": "stdout",
     "output_type": "stream",
     "text": [
      "there are 8 duplications\n"
     ]
    }
   ],
   "source": [
    "dups = re.findall(r\"(^|\\s)(\\w+)( +(\\2))+\", little_prince)\n",
    "print('there are', len(dups), 'duplications')\n",
    "\n",
    "with open(\"duplications.txt\", \"w\", encoding=\"utf-8\") as fid:\n",
    "    for i, dup in enumerate(dups):\n",
    "        fid.write(f\"{i} : \\\"{str(\"\".join(dup[0:-1]))}\\\"\\n\")"
   ]
  },
  {
   "cell_type": "markdown",
   "metadata": {},
   "source": [
    "Quotations"
   ]
  },
  {
   "cell_type": "code",
   "execution_count": 7,
   "metadata": {},
   "outputs": [
    {
     "name": "stdout",
     "output_type": "stream",
     "text": [
      "there are 37 sentences surrounded by quotes\n"
     ]
    }
   ],
   "source": [
    "quotations = re.findall(r\"“[^“]*?”|‘[^‘]*?’\", little_prince)\n",
    "print('there are', len(quotations), 'sentences surrounded by quotes')\n",
    "\n",
    "with open(\"quotations.txt\", \"w\", encoding=\"utf-8\") as fid:\n",
    "    for q in quotations:\n",
    "        fid.write(q + \"\\n\")"
   ]
  },
  {
   "cell_type": "code",
   "execution_count": 8,
   "metadata": {},
   "outputs": [
    {
     "name": "stdout",
     "output_type": "stream",
     "text": [
      "the little prince antoine de saintexupery 03032022 antoine de saintexupery who was a french author journalist and pilot wrote the little prince in 1943 one year before his death the little prince appears to be a simple children’s tale some would say that it is actually a profound and deeply moving tale written in riddles and laced with philosophy and poetic metaphor once when i was six years old i saw a magnificent picture in a book called true stories from nature about the primeval forest it was a picture of a boa constrictor in the act of swallowing animal here is a copy of the drawing drawn on 03032021 in the book it said “boa constrictors swallow their prey whole without chewing it after that they are not able to move and they sleep through the six months that they need for digestion” i pondered deeply then over the adventures of the jungle and after some work with a coloured pencil i succeeded in making my first drawing my drawing number one it looked like this 03032019 i showed my masterpiece to the grownups and asked them whether the drawing frightened them but they answered “17 frighten why should any one be frightened by a hat” my drawing was not a picture of a hat it was a picture of a boa constrictor digesting an elephant but since the grown ups were not able to understand it i made another drawing i drew the inside of the boa constrictor so that the grownups could see it clearly8 they always need to have things explained 03122018 my drawing number two looked like this the grownups’ response this time was to advise me to lay aside my drawings of boa constrictors whether from the inside or the outside and devote myself instead to geography history arithmetic and grammar that is why at the age of six i gave up what might have been a magnificent career as a painter i had been 11032017 disheartened by the failure of my drawing number one and my drawing number two grownups never understand anything by themselves and it is tiresome for children to be always and forever explaining things to them so then i chose another profession and learned to pilot airplanes i have flown a little over all parts of the world and it is true that geography has been very useful to me at a glance i can distinguish china from arizona if one gets lost in the night such knowledge is valuable in the course of this life i have had a great many encounters with a great many people who have been concerned with matters of consequence i have lived a great deal 03032016 among grownups i have seen them intimately close at hand and that hasn’t much improved my opinion of them whenever i met one of them who seemed to me at all clearsighted i tried the experiment of showing him my drawing number one which i have always kept i would try to find out so if this was a person of true understanding but whoever it was he or she would always say “that is a hat” then i would never talk to that person about boa 03032015 constrictors or primeval forests or stars i would bring myself down to his level i would talk to him about bridge and golf and politics and neckties and the grownup would be greatly 264 pleased to have met such a sensible man so i lived my life alone without anyone that i could really talk to until i had an accident with my plane in the desert of sahara six years ago something was broken in my engine and as i had with me neither a mechanic nor any passengers i set myself to attempt the difficult repairs all 23 alone it was a question of life or death for me i had scarcely enough drinking water to last a week the first night then i went to sleep on the sand a thousand miles from any human 03032022 habitation i was more isolated than a shipwrecked sailor on a raft in the middle of the ocean thus you can imagine my amazement 03032022 at sunrise when i was awakened by an odd little voice it said “if you please draw me a sheep” “what” “draw me a sheep” i jumped to my feet completely thunderstruck i blinked my eyes hard i looked carefully all around me and i saw a most extraordinary small person who stood there examining me with great seriousness here you may see the best portrait that later i was able to make of him but my drawing is certainly very much less charming than its model that however is not my fault the grownups discouraged me in my painter’s career when i was six years old and i never 03032022 learned to draw anything except boas from the outside and boas from the inside now i stared at this sudden apparition with my eyes fairly starting out of my head in astonishment remember i had crashed in the desert a thousand miles from any inhabited region and yet my little man seemed neither to be straying uncertainly among the sands nor to be fainting from fatigue or hunger or thirst or fear nothing about him gave any suggestion of a child lost in the middle of the desert a thousand miles from any human habitation when at last i was able to speak i said to him “but what are you doing here” and in answer he repeated very slowly as if he were speaking of a matter of great consequence555 “if you please draw me a sheep” when a mystery is too overpowering one dare not disobey absurd as it might seem to me a thousand miles from any human habitation and in danger of death i took out of my pocket a sheet of paper and my fountain pen but then i remembered how my studies had been concentrated on geography history arithmetic and grammar and i told the little chap a little crossly too that i did not know how to draw he answered me “that doesn’t matter draw me a sheep” 03031933 but i had never drawn a sheep so i drew for him one of the two pictures i had drawn so often it was that of the boa constrictor from the outside and i was astounded to hear the little fellow greet it with “no no i do not want an elephant inside a boa constrictor a boa constrictor is a very dangerous creature and an elephant is very cumbersome where i live everything is very small what i need is a sheep draw me a sheep so then i made a drawing he looked at it carefully then he said “no this sheep is already very sickly make me another” so i made another drawing my friend smiled gently and indulgently “you see yourself” he said “that this is not a sheep this is a ram it has horns so then i did my drawing over once more but it was rejected too just like the others “this one is too old i want a sheep that will live a long time by this time my patience was exhausted because i was in a hurry to start taking my engine apart so i tossed off this drawing and i threw out an explanation with it “this is only his box the sheep you asked for is inside” i was very surprised to see a light break over the face of my young judge “that is exactly the way i wanted it do you think that this sheep will have to have a great deal of 1 2 grass” “why” 03031933 “because where i live everything is very small” “there will surely be enough grass for him” i said “it is a very small sheep that i have given you” he bent his head over the drawing “not so small that look he has gone to sleep” and that is how i made the acquaintance of the little prince it took me a long time to learn where he came from the little prince who asked me so many questions never seemed to hear the ones i asked him it was from words dropped by chance that little by little everything was revealed to me the first time he saw my airplane for instance i shall not draw my airplane that would be much too complicated for me he asked me “what is that object” “that is not an object it flies it is an airplane it is my airplane” and i was proud to have him learn that i could fly he cried out then “what you dropped down from the sky” “yes” i answered modestly “oh that is funny” and the little prince broke into a lovely peal of laughter which irritated me very much i like my misfortunes to be taken seriously then he added “so you too come from the sky which is your planet” at that moment i caught a gleam of light in the impenetrable mystery of his presence and i demanded abruptly “do you come from another planet” but he did not reply he tossed his head gently without taking his eyes from my plane “it is true that on that you can’t have come from very far away” and he sank into a reverie which lasted a long time then taking my sheep out of his pocket he buried himself in the contemplation of his treasure you can imagine how my curiosity was aroused by this halfconfidence about the “other planets” i made a great effort therefore to find out more on this subject “my little man where do you come from what is this ‘where i live’ of which you speak where do you want to take your sheep” after a reflective silence he answered “the thing that is so good about the box you have given me is that at night he can use it as his house” “that is so and if you are good i will give you a string too so that you can tie him during the day and a post to tie him to” but the little prince seemed shocked by this offer “tie him what a queer idea” “but if you don’t tie him” i said “he will wander off somewhere and get lost” my friend broke into another peal of laughter “but where do you think he would go” “anywhere straight ahead of him” then the little prince said earnestly “that doesn’t matter where i live everything is so small” and with perhaps a hint of sadness he added “straight ahead of him nobody can go very far” \n"
     ]
    },
    {
     "data": {
      "text/plain": [
       "[(' ', 'and', ' and', 'and'),\n",
       " (' ', 'picture', '   picture', 'picture'),\n",
       " (' ', 'from', ' \\nfrom', 'from'),\n",
       " (' ', 'an', ' \\nan', 'an'),\n",
       " (' ', 'and', ' and', 'and'),\n",
       " (' ', 'clearly', ' clearly', 'clearly'),\n",
       " (' ', 'alone', ' alone', 'alone'),\n",
       " (' ', 'me', ' me', 'me'),\n",
       " (' ', 'sleep', ' sleep', 'sleep'),\n",
       " ('\\n', 'Then', ' Then', 'Then')]"
      ]
     },
     "execution_count": 8,
     "metadata": {},
     "output_type": "execute_result"
    }
   ],
   "source": [
    "import string\n",
    "\n",
    "def clean_text(text):\n",
    "    temp = text.lower()\n",
    "    temp = re.sub(f\"[{string.punctuation}]\", \"\", temp)\n",
    "    temp = re.sub(r\"\\s+\", \" \", temp)\n",
    "    temp = re.sub(r\"(^|\\s)(\\w+)( +(\\2))+\", r\"\\1\\2\", temp)\n",
    "    print(temp)\n",
    "    return temp\n",
    "\n",
    "\n",
    "cleaned_text = clean_text(little_prince)\n",
    "with open('cleaned little prince.txt', 'w', encoding='utf-8') as fid:\n",
    "    fid.write(cleaned_text)\n",
    "\n",
    "re.findall(r\"(^|\\s)(\\w+)([\\s]+(\\2))+\", little_prince)"
   ]
  }
 ],
 "metadata": {
  "kernelspec": {
   "display_name": "Python 3",
   "language": "python",
   "name": "python3"
  },
  "language_info": {
   "codemirror_mode": {
    "name": "ipython",
    "version": 3
   },
   "file_extension": ".py",
   "mimetype": "text/x-python",
   "name": "python",
   "nbconvert_exporter": "python",
   "pygments_lexer": "ipython3",
   "version": "3.12.3"
  }
 },
 "nbformat": 4,
 "nbformat_minor": 2
}
